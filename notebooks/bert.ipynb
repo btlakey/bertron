{
 "cells": [
  {
   "cell_type": "markdown",
   "id": "771c4c48",
   "metadata": {},
   "source": [
    "authorship assignment papers:\n",
    " - http://publications.idiap.ch/downloads/papers/2020/Fabien_ICON2020_2020.pdf\n",
    " - https://link.springer.com/content/pdf/10.1007%2F978-3-540-30115-8_22.pdf  \n",
    " \n",
    "bert multiclass classsification:\n",
    " - https://towardsdatascience.com/multi-class-text-classification-with-deep-learning-using-bert-b59ca2f5c613\n",
    "   - from: https://www.coursera.org/projects/sentiment-analysis-bert"
   ]
  },
  {
   "cell_type": "code",
   "execution_count": 1,
   "id": "e6394183",
   "metadata": {},
   "outputs": [],
   "source": [
    "import pandas as pd\n",
    "import json\n",
    "import numpy as np\n",
    "import matplotlib.pyplot as plt\n",
    "import random\n",
    "from toolz import curry\n",
    "from tqdm.notebook import tqdm\n",
    "\n",
    "from sklearn.model_selection import train_test_split\n",
    "\n",
    "seed = 666"
   ]
  },
  {
   "cell_type": "markdown",
   "id": "b02272ec",
   "metadata": {},
   "source": [
    "### train/test split"
   ]
  },
  {
   "cell_type": "code",
   "execution_count": 2,
   "id": "6e28d63b",
   "metadata": {},
   "outputs": [],
   "source": [
    "X = pd.read_parquet('../data/processed/X.parquet').sample(frac=.05)\n",
    "with open('../data/processed/labels.json', 'r') as f_in:\n",
    "    LABEL_DICT = json.load(f_in)"
   ]
  },
  {
   "cell_type": "code",
   "execution_count": 23,
   "id": "e7587f9b",
   "metadata": {},
   "outputs": [
    {
     "data": {
      "text/html": [
       "<div>\n",
       "<style scoped>\n",
       "    .dataframe tbody tr th:only-of-type {\n",
       "        vertical-align: middle;\n",
       "    }\n",
       "\n",
       "    .dataframe tbody tr th {\n",
       "        vertical-align: top;\n",
       "    }\n",
       "\n",
       "    .dataframe thead th {\n",
       "        text-align: right;\n",
       "    }\n",
       "</style>\n",
       "<table border=\"1\" class=\"dataframe\">\n",
       "  <thead>\n",
       "    <tr style=\"text-align: right;\">\n",
       "      <th></th>\n",
       "      <th>author</th>\n",
       "      <th>recip_primary</th>\n",
       "      <th>subject</th>\n",
       "      <th>body</th>\n",
       "      <th>label</th>\n",
       "      <th>data_type</th>\n",
       "    </tr>\n",
       "  </thead>\n",
       "  <tbody>\n",
       "    <tr>\n",
       "      <th>53959</th>\n",
       "      <td>vince.kaminski</td>\n",
       "      <td>shirley.crenshaw</td>\n",
       "      <td>EGM Staff Meeting - Reminder</td>\n",
       "      <td>FYI\\n\\n\\nVince</td>\n",
       "      <td>1</td>\n",
       "      <td>train</td>\n",
       "    </tr>\n",
       "    <tr>\n",
       "      <th>64491</th>\n",
       "      <td>matthew.lenhart</td>\n",
       "      <td>mmmarcantel</td>\n",
       "      <td>RE:</td>\n",
       "      <td>i just spoke to someone who said they would ma...</td>\n",
       "      <td>9</td>\n",
       "      <td>train</td>\n",
       "    </tr>\n",
       "    <tr>\n",
       "      <th>56042</th>\n",
       "      <td>vince.kaminski</td>\n",
       "      <td>william.smith</td>\n",
       "      <td>Re: Monday's Newsletter</td>\n",
       "      <td>Sam,\\n\\nI shall have it on Monday morning.\\n\\n...</td>\n",
       "      <td>1</td>\n",
       "      <td>train</td>\n",
       "    </tr>\n",
       "    <tr>\n",
       "      <th>20646</th>\n",
       "      <td>jeff.dasovich</td>\n",
       "      <td>brbarkovich</td>\n",
       "      <td>Re: changes to Jeff's language</td>\n",
       "      <td>Thanks Barbara:\\nDorothy just phoned me and I ...</td>\n",
       "      <td>3</td>\n",
       "      <td>train</td>\n",
       "    </tr>\n",
       "    <tr>\n",
       "      <th>17967</th>\n",
       "      <td>jeff.dasovich</td>\n",
       "      <td>jeffery.fawcett</td>\n",
       "      <td>Re: CPUC Workshop on 4/17</td>\n",
       "      <td>This is unreal.  If TW ain't on the A list, wh...</td>\n",
       "      <td>3</td>\n",
       "      <td>test</td>\n",
       "    </tr>\n",
       "    <tr>\n",
       "      <th>...</th>\n",
       "      <td>...</td>\n",
       "      <td>...</td>\n",
       "      <td>...</td>\n",
       "      <td>...</td>\n",
       "      <td>...</td>\n",
       "      <td>...</td>\n",
       "    </tr>\n",
       "    <tr>\n",
       "      <th>96951</th>\n",
       "      <td>elizabeth.sager</td>\n",
       "      <td>alice.wright</td>\n",
       "      <td>FW: Your Approval is Overdue: Access Request for</td>\n",
       "      <td>DItto</td>\n",
       "      <td>23</td>\n",
       "      <td>train</td>\n",
       "    </tr>\n",
       "    <tr>\n",
       "      <th>37421</th>\n",
       "      <td>darron.giron</td>\n",
       "      <td>kristi.giron</td>\n",
       "      <td>Re: CO</td>\n",
       "      <td>I relpied to mom already, but thought you woul...</td>\n",
       "      <td>29</td>\n",
       "      <td>train</td>\n",
       "    </tr>\n",
       "    <tr>\n",
       "      <th>92243</th>\n",
       "      <td>robin.rodrigue</td>\n",
       "      <td>kori.loibl</td>\n",
       "      <td>VAR</td>\n",
       "      <td>EFF_DT PORTFOLIO_ID DOWN95\\n1/9/01  MANAGEMENT...</td>\n",
       "      <td>22</td>\n",
       "      <td>train</td>\n",
       "    </tr>\n",
       "    <tr>\n",
       "      <th>45910</th>\n",
       "      <td>tana.jones</td>\n",
       "      <td>tom.moran</td>\n",
       "      <td>Re: EOL Credit Responses 10/24/00</td>\n",
       "      <td>What's the scoop on this?</td>\n",
       "      <td>5</td>\n",
       "      <td>train</td>\n",
       "    </tr>\n",
       "    <tr>\n",
       "      <th>6083</th>\n",
       "      <td>eric.bass</td>\n",
       "      <td>timothy.blanchard</td>\n",
       "      <td>Happy Hour Friday</td>\n",
       "      <td>So, I guess we will plan on meeting at Kenneal...</td>\n",
       "      <td>8</td>\n",
       "      <td>train</td>\n",
       "    </tr>\n",
       "  </tbody>\n",
       "</table>\n",
       "<p>512 rows × 6 columns</p>\n",
       "</div>"
      ],
      "text/plain": [
       "                author      recip_primary  \\\n",
       "53959   vince.kaminski   shirley.crenshaw   \n",
       "64491  matthew.lenhart        mmmarcantel   \n",
       "56042   vince.kaminski      william.smith   \n",
       "20646    jeff.dasovich        brbarkovich   \n",
       "17967    jeff.dasovich    jeffery.fawcett   \n",
       "...                ...                ...   \n",
       "96951  elizabeth.sager       alice.wright   \n",
       "37421     darron.giron       kristi.giron   \n",
       "92243   robin.rodrigue         kori.loibl   \n",
       "45910       tana.jones          tom.moran   \n",
       "6083         eric.bass  timothy.blanchard   \n",
       "\n",
       "                                                subject  \\\n",
       "53959                      EGM Staff Meeting - Reminder   \n",
       "64491                                               RE:   \n",
       "56042                           Re: Monday's Newsletter   \n",
       "20646                    Re: changes to Jeff's language   \n",
       "17967                         Re: CPUC Workshop on 4/17   \n",
       "...                                                 ...   \n",
       "96951  FW: Your Approval is Overdue: Access Request for   \n",
       "37421                                            Re: CO   \n",
       "92243                                               VAR   \n",
       "45910                 Re: EOL Credit Responses 10/24/00   \n",
       "6083                                  Happy Hour Friday   \n",
       "\n",
       "                                                    body  label data_type  \n",
       "53959                                     FYI\\n\\n\\nVince      1     train  \n",
       "64491  i just spoke to someone who said they would ma...      9     train  \n",
       "56042  Sam,\\n\\nI shall have it on Monday morning.\\n\\n...      1     train  \n",
       "20646  Thanks Barbara:\\nDorothy just phoned me and I ...      3     train  \n",
       "17967  This is unreal.  If TW ain't on the A list, wh...      3      test  \n",
       "...                                                  ...    ...       ...  \n",
       "96951                                              DItto     23     train  \n",
       "37421  I relpied to mom already, but thought you woul...     29     train  \n",
       "92243  EFF_DT PORTFOLIO_ID DOWN95\\n1/9/01  MANAGEMENT...     22     train  \n",
       "45910                          What's the scoop on this?      5     train  \n",
       "6083   So, I guess we will plan on meeting at Kenneal...      8     train  \n",
       "\n",
       "[512 rows x 6 columns]"
      ]
     },
     "execution_count": 23,
     "metadata": {},
     "output_type": "execute_result"
    }
   ],
   "source": [
    "X"
   ]
  },
  {
   "cell_type": "code",
   "execution_count": 4,
   "id": "47b788fe",
   "metadata": {},
   "outputs": [],
   "source": [
    "# stratified train/test split\n",
    "X_train, X_test, y_train, y_test = train_test_split(\n",
    "    X.index.values, \n",
    "    X['label'].values, \n",
    "    test_size=0.15, \n",
    "    random_state=seed, \n",
    "    stratify=X['label'].values\n",
    ")"
   ]
  },
  {
   "cell_type": "code",
   "execution_count": 5,
   "id": "553b6df8",
   "metadata": {},
   "outputs": [],
   "source": [
    "X['data_type'] = np.nan * X.shape[0]\n",
    "X.loc[X_train, 'data_type'] = 'train'\n",
    "X.loc[X_test, 'data_type'] = 'test'\n",
    "\n",
    "# X.groupby(['author', 'label', 'data_type']).count()"
   ]
  },
  {
   "cell_type": "code",
   "execution_count": 6,
   "id": "2cd0dbc4",
   "metadata": {
    "scrolled": false
   },
   "outputs": [
    {
     "data": {
      "text/plain": [
       "<AxesSubplot:>"
      ]
     },
     "execution_count": 6,
     "metadata": {},
     "output_type": "execute_result"
    },
    {
     "data": {
      "image/png": "[encoded data removed]",
      "text/plain": [
       "<Figure size 1152x432 with 1 Axes>"
      ]
     },
     "metadata": {
      "needs_background": "light"
     },
     "output_type": "display_data"
    }
   ],
   "source": [
    "X[X['data_type']=='train']['body'].apply(len).hist(bins=32, figsize=(16,6))"
   ]
  },
  {
   "cell_type": "code",
   "execution_count": 7,
   "id": "be038bca",
   "metadata": {
    "scrolled": true
   },
   "outputs": [
    {
     "name": "stdout",
     "output_type": "stream",
     "text": [
      "{0.9: 1103, 0.95: 1953, 0.98: 2707, 0.99: 3986}\n"
     ]
    },
    {
     "data": {
      "text/plain": [
       "<matplotlib.collections.PathCollection at 0x23ef6550c40>"
      ]
     },
     "execution_count": 7,
     "metadata": {},
     "output_type": "execute_result"
    },
    {
     "data": {
      "image/png": "[encoded data removed]",
      "text/plain": [
       "<Figure size 432x288 with 1 Axes>"
      ]
     },
     "metadata": {
      "needs_background": "light"
     },
     "output_type": "display_data"
    }
   ],
   "source": [
    "vc = X['body'].apply(len).value_counts().sort_index()\n",
    "percents = [.9, .95, .98, .99]\n",
    "cs = map(lambda x: vc.cumsum() < vc.sum() * x, percents)\n",
    "lens = [vc[~i].index.min() for i in cs]\n",
    "points = dict(zip(percents, lens))\n",
    "\n",
    "print(points)\n",
    "plt.scatter(percents, lens)\n",
    "\n",
    "# 95% of emails are no longer than 1869 characters"
   ]
  },
  {
   "cell_type": "code",
   "execution_count": 8,
   "id": "dca8ab48",
   "metadata": {},
   "outputs": [],
   "source": [
    "max_len = int(points[0.95])\n",
    "\n",
    "# overwrite 512 default tensor setting\n",
    "max_len = 512"
   ]
  },
  {
   "cell_type": "markdown",
   "id": "72f95f29",
   "metadata": {},
   "source": [
    "### tokenize"
   ]
  },
  {
   "cell_type": "code",
   "execution_count": 9,
   "id": "a3beee6f",
   "metadata": {},
   "outputs": [],
   "source": [
    "import torch\n",
    "from torch.utils.data import TensorDataset, DataLoader, RandomSampler, SequentialSampler\n",
    "from transformers import BertTokenizer, BertForSequenceClassification, AdamW, get_linear_schedule_with_warmup"
   ]
  },
  {
   "cell_type": "code",
   "execution_count": 10,
   "id": "046e2cec",
   "metadata": {},
   "outputs": [],
   "source": [
    "tokenizer = BertTokenizer.from_pretrained('bert-base-uncased', do_lower_case=True)"
   ]
  },
  {
   "cell_type": "code",
   "execution_count": 11,
   "id": "e9880fbd",
   "metadata": {},
   "outputs": [],
   "source": [
    "# partial evaluation (curry) for setting default values\n",
    "tokenizer_cur = curry(tokenizer.batch_encode_plus)(\n",
    "    add_special_tokens=True, \n",
    "    return_attention_mask=True, \n",
    "    padding='max_length', \n",
    "    max_length=max_len,\n",
    "    truncation=True,\n",
    "    return_tensors='pt'\n",
    ")"
   ]
  },
  {
   "cell_type": "code",
   "execution_count": 12,
   "id": "4ebfbdce",
   "metadata": {},
   "outputs": [],
   "source": [
    "mask_train = X['data_type']=='train'\n",
    "\n",
    "encoded_data_train = tokenizer_cur(\n",
    "    X[mask_train]['body'].values\n",
    ")"
   ]
  },
  {
   "cell_type": "code",
   "execution_count": 13,
   "id": "9960e95d",
   "metadata": {},
   "outputs": [],
   "source": [
    "mask_test = X['data_type']=='test'\n",
    "\n",
    "encoded_data_test = tokenizer_cur(\n",
    "    X[mask_test]['body'].values\n",
    ")"
   ]
  },
  {
   "cell_type": "code",
   "execution_count": 14,
   "id": "6c0a37c1",
   "metadata": {},
   "outputs": [],
   "source": [
    "input_ids_train = encoded_data_train['input_ids']\n",
    "attention_masks_train = encoded_data_train['attention_mask']\n",
    "labels_train = torch.tensor(X[mask_train]['label'].values)\n",
    "\n",
    "input_ids_test = encoded_data_test['input_ids']\n",
    "attention_masks_test = encoded_data_test['attention_mask']\n",
    "labels_test = torch.tensor(X[mask_test]['label'].values)\n",
    "\n",
    "dataset_train = TensorDataset(input_ids_train, attention_masks_train, labels_train)\n",
    "dataset_test = TensorDataset(input_ids_test, attention_masks_test, labels_test)"
   ]
  },
  {
   "cell_type": "markdown",
   "id": "f8cb50af",
   "metadata": {},
   "source": [
    "### bert"
   ]
  },
  {
   "cell_type": "code",
   "execution_count": 15,
   "id": "cabc06f2",
   "metadata": {},
   "outputs": [
    {
     "name": "stderr",
     "output_type": "stream",
     "text": [
      "Some weights of the model checkpoint at bert-base-uncased were not used when initializing BertForSequenceClassification: ['cls.predictions.bias', 'cls.predictions.transform.dense.weight', 'cls.predictions.transform.dense.bias', 'cls.predictions.decoder.weight', 'cls.seq_relationship.weight', 'cls.seq_relationship.bias', 'cls.predictions.transform.LayerNorm.weight', 'cls.predictions.transform.LayerNorm.bias']\n",
      "- This IS expected if you are initializing BertForSequenceClassification from the checkpoint of a model trained on another task or with another architecture (e.g. initializing a BertForSequenceClassification model from a BertForPreTraining model).\n",
      "- This IS NOT expected if you are initializing BertForSequenceClassification from the checkpoint of a model that you expect to be exactly identical (initializing a BertForSequenceClassification model from a BertForSequenceClassification model).\n",
      "Some weights of BertForSequenceClassification were not initialized from the model checkpoint at bert-base-uncased and are newly initialized: ['classifier.weight', 'classifier.bias']\n",
      "You should probably TRAIN this model on a down-stream task to be able to use it for predictions and inference.\n"
     ]
    },
    {
     "data": {
      "text/plain": [
       "'\\nmax_position_embeddings=max_len\\nif I try to set embeddings dims to be greater, then run into problems\\nwill have to trouble shoot this later\\n\\nRuntimeError: Error(s) in loading state_dict for BertForSequenceClassification:\\nsize mismatch for bert.embeddings.position_embeddings.weight: copying a param with shape torch.Size([512, 768]) from checkpoint, the shape in current model is torch.Size([1966, 768]).\\n'"
      ]
     },
     "execution_count": 15,
     "metadata": {},
     "output_type": "execute_result"
    }
   ],
   "source": [
    "model = BertForSequenceClassification.from_pretrained(\n",
    "    \"bert-base-uncased\",\n",
    "    num_labels=len(LABEL_DICT),\n",
    "    output_attentions=False,\n",
    "    output_hidden_states=False\n",
    ")\n",
    "\n",
    "\"\"\"\n",
    "max_position_embeddings=max_len\n",
    "if I try to set embeddings dims to be greater, then run into problems\n",
    "will have to trouble shoot this later\n",
    "\n",
    "RuntimeError: Error(s) in loading state_dict for BertForSequenceClassification:\n",
    "size mismatch for bert.embeddings.position_embeddings.weight: copying a param with shape torch.Size([512, 768]) from checkpoint, the shape in current model is torch.Size([1966, 768]).\n",
    "\"\"\""
   ]
  },
  {
   "cell_type": "code",
   "execution_count": 16,
   "id": "5ad45195",
   "metadata": {},
   "outputs": [],
   "source": [
    "batch_size = 256  # 3\n",
    "\n",
    "dataloader_train = DataLoader(\n",
    "    dataset_train, \n",
    "    sampler=RandomSampler(dataset_train), \n",
    "    batch_size=batch_size\n",
    ")\n",
    "dataloader_test = DataLoader(\n",
    "    dataset_test, \n",
    "    sampler=SequentialSampler(dataset_test), \n",
    "    batch_size=batch_size\n",
    ")"
   ]
  },
  {
   "cell_type": "code",
   "execution_count": 17,
   "id": "4eb6710f",
   "metadata": {},
   "outputs": [],
   "source": [
    "epochs = 2  # 5\n",
    "\n",
    "optimizer = AdamW(\n",
    "    model.parameters(),\n",
    "    lr=1e-5, \n",
    "    eps=1e-8\n",
    ")\n",
    "scheduler = get_linear_schedule_with_warmup(\n",
    "    optimizer, \n",
    "    num_warmup_steps=0,\n",
    "    num_training_steps=len(dataloader_train) * epochs\n",
    ")"
   ]
  },
  {
   "cell_type": "code",
   "execution_count": 18,
   "id": "14b0e600",
   "metadata": {},
   "outputs": [],
   "source": [
    "from sklearn.metrics import f1_score\n",
    "\n",
    "def f1_score_func(preds, labels):\n",
    "    preds_flat = np.argmax(preds, axis=1).flatten()\n",
    "    labels_flat = labels.flatten()\n",
    "    return f1_score(labels_flat, preds_flat, average='weighted')\n",
    "\n",
    "def accuracy_per_class(preds, labels):\n",
    "    label_dict_inverse = {v: k for k, v in LABEL_DICT.items()}\n",
    "    preds_flat = np.argmax(preds, axis=1).flatten()\n",
    "    labels_flat = labels.flatten()\n",
    "\n",
    "    for label in np.unique(labels_flat):\n",
    "        y_preds = preds_flat[labels_flat == label]\n",
    "        y_true = labels_flat[labels_flat == label]\n",
    "        print(f'Class: {label_dict_inverse[label]}')\n",
    "        print(f'Accuracy: {len(y_preds[y_preds == label])} / {len(y_true)}\\n')"
   ]
  },
  {
   "cell_type": "markdown",
   "id": "48933656",
   "metadata": {},
   "source": [
    "### training"
   ]
  },
  {
   "cell_type": "code",
   "execution_count": 19,
   "id": "bb96dad4",
   "metadata": {},
   "outputs": [],
   "source": [
    "random.seed(seed)\n",
    "np.random.seed(seed)\n",
    "torch.manual_seed(seed)\n",
    "torch.cuda.manual_seed_all(seed)\n",
    "device = torch.device(\"cuda\" if torch.cuda.is_available() else \"cpu\")"
   ]
  },
  {
   "cell_type": "code",
   "execution_count": 20,
   "id": "c1837d61",
   "metadata": {},
   "outputs": [],
   "source": [
    "def input_dict(batch):\n",
    "    return {\n",
    "        'input_ids': batch[0],\n",
    "        'attention_mask': batch[1],\n",
    "        'labels': batch[2]\n",
    "    }"
   ]
  },
  {
   "cell_type": "code",
   "execution_count": 21,
   "id": "d2ef0a26",
   "metadata": {},
   "outputs": [],
   "source": [
    "def evaluate(dataloader_test):\n",
    "\n",
    "    model.eval()\n",
    "    \n",
    "    loss_test_total = 0\n",
    "    predictions, true_tests = [], []\n",
    "    \n",
    "    for batch in dataloader_test:\n",
    "\n",
    "        batch = tuple(b.to(device) for b in batch)\n",
    "        inputs = input_dict(batch)\n",
    "\n",
    "        with torch.no_grad():        \n",
    "            outputs = model(**inputs)\n",
    "            \n",
    "        loss = outputs[0]\n",
    "        logits = outputs[1]\n",
    "        loss_test_total += loss.item()\n",
    "\n",
    "        logits = logits.detach().cpu().numpy()\n",
    "        label_ids = inputs['labels'].cpu().numpy()\n",
    "        predictions.append(logits)\n",
    "        true_tests.append(label_ids)\n",
    "    \n",
    "    loss_test_avg = loss_test_total / len(dataloader_test) \n",
    "    \n",
    "    predictions = np.concatenate(predictions, axis=0)\n",
    "    true_tests = np.concatenate(true_tests, axis=0)\n",
    "            \n",
    "    return loss_test_avg, predictions, true_tests"
   ]
  },
  {
   "cell_type": "code",
   "execution_count": null,
   "id": "40cda806",
   "metadata": {
    "scrolled": false
   },
   "outputs": [
    {
     "data": {
      "application/vnd.jupyter.widget-view+json": {
       "model_id": "a1dc13fddfae46f6a1c328554c61d554",
       "version_major": 2,
       "version_minor": 0
      },
      "text/plain": [
       "  0%|          | 0/2 [00:00<?, ?it/s]"
      ]
     },
     "metadata": {},
     "output_type": "display_data"
    },
    {
     "data": {
      "application/vnd.jupyter.widget-view+json": {
       "model_id": "d5381a86385642bbbbbf4f36a475de1b",
       "version_major": 2,
       "version_minor": 0
      },
      "text/plain": [
       "Epoch 1:   0%|          | 0/2 [00:00<?, ?it/s]"
      ]
     },
     "metadata": {},
     "output_type": "display_data"
    },
    {
     "name": "stdout",
     "output_type": "stream",
     "text": [
      "type(batch): <class 'list'>\n"
     ]
    }
   ],
   "source": [
    "for epoch in tqdm(range(1, epochs+1)):\n",
    "    \n",
    "    model.train()\n",
    "    \n",
    "    loss_train_total = 0\n",
    "    progress_bar = tqdm(\n",
    "        dataloader_train,\n",
    "        desc='Epoch {:1d}'.format(epoch),\n",
    "        leave=False,\n",
    "        disable=False\n",
    "    )\n",
    "    \n",
    "    for batch in progress_bar:\n",
    "        \n",
    "        try:\n",
    "            print(f'type(batch): {type(batch)}')\n",
    "            print(f'batch.shape: {batch.shape}')\n",
    "        except:\n",
    "            pass\n",
    "        \n",
    "        model.zero_grad()\n",
    "                \n",
    "        batch = tuple(b.to(device) for b in batch)\n",
    "        inputs = input_dict(batch)    \n",
    "        outputs = model(**inputs)\n",
    "        \n",
    "#         loss = outputs[0]\n",
    "#         loss_train_total += loss.item()\n",
    "#         loss.backward()\n",
    "\n",
    "#         torch.nn.utils.clip_grad_norm_(model.parameters(), 1.0)\n",
    "\n",
    "#         optimizer.step()\n",
    "#         scheduler.step()\n",
    "        \n",
    "#         progress_bar.set_postfix({'training_loss': '{:.3f}'.format(loss.item() / len(batch))})\n",
    "        \n",
    "#     torch.save(model.state_dict(), f'data_volume/finetuned_BERT_epoch_{epoch}.model')\n",
    "\n",
    "#     tqdm.write(f'\\nEpoch {epoch}')\n",
    "    \n",
    "    loss_train_avg = loss_train_total / len(dataloader_train)            \n",
    "    tqdm.write(f'Training loss: {loss_train_avg}')\n",
    "    \n",
    "    try: \n",
    "        print(f'type(dataloader_train): {type(dataloader_train)}')\n",
    "        print(f'dataloader_train.shape: {dataloader_train.shape}')\n",
    "    except:\n",
    "        pass\n",
    "    \n",
    "#     test_loss, predictions, true_tests = evaluate(dataloader_test)\n",
    "    try: \n",
    "        print(f'type(test_loss): {type(test_loss)}')\n",
    "        print(f'type(predictions): {type(predictions)}')\n",
    "        print(f'type(true_tests): {type(true_tests)}')\n",
    "        print(f'predictions.shape: {predictions.shape}')\n",
    "        print(f'true_tests.shape: {true_tests.shape}')\n",
    "    except:\n",
    "        pass\n",
    "    \n",
    "#     test_f1 = f1_score_func(predictions, true_tests)\n",
    "#     tqdm.write(f'Test loss: {test_loss}')\n",
    "#     tqdm.write(f'F1 Score (Weighted): {test_f1}')"
   ]
  },
  {
   "cell_type": "code",
   "execution_count": null,
   "id": "456b6ee2",
   "metadata": {},
   "outputs": [],
   "source": [
    "# oh man, this really isn't going to work on this computer\n",
    "# setting up an aws g3.4xlarge\n",
    "# make that a c5.12xlarge "
   ]
  }
 ],
 "metadata": {
  "kernelspec": {
   "display_name": "Python 3",
   "language": "python",
   "name": "python3"
  },
  "language_info": {
   "codemirror_mode": {
    "name": "ipython",
    "version": 3
   },
   "file_extension": ".py",
   "mimetype": "text/x-python",
   "name": "python",
   "nbconvert_exporter": "python",
   "pygments_lexer": "ipython3",
   "version": "3.8.8"
  }
 },
 "nbformat": 4,
 "nbformat_minor": 5
}
