{
 "cells": [
  {
   "cell_type": "markdown",
   "id": "771c4c48",
   "metadata": {},
   "source": [
    "authorship assignment papers:\n",
    " - http://publications.idiap.ch/downloads/papers/2020/Fabien_ICON2020_2020.pdf\n",
    " - https://link.springer.com/content/pdf/10.1007%2F978-3-540-30115-8_22.pdf  \n",
    " \n",
    "bert multiclass classsification:\n",
    " - https://towardsdatascience.com/multi-class-text-classification-with-deep-learning-using-bert-b59ca2f5c613\n",
    "   - from: https://www.coursera.org/projects/sentiment-analysis-bert"
   ]
  },
  {
   "cell_type": "code",
   "execution_count": 1,
   "id": "e6394183",
   "metadata": {},
   "outputs": [],
   "source": [
    "import pandas as pd\n",
    "import numpy as np\n",
    "import matplotlib.pyplot as plt\n",
    "import random\n",
    "from toolz import curry\n",
    "\n",
    "from sklearn.model_selection import train_test_split\n",
    "\n",
    "seed = 666"
   ]
  },
  {
   "cell_type": "markdown",
   "id": "bd9356d8",
   "metadata": {},
   "source": [
    "### format data"
   ]
  },
  {
   "cell_type": "code",
   "execution_count": 2,
   "id": "083e0ed4",
   "metadata": {},
   "outputs": [
    {
     "name": "stdout",
     "output_type": "stream",
     "text": [
      "(126057, 7)\n",
      "(125684, 7)\n"
     ]
    }
   ],
   "source": [
    "raw = pd.read_parquet('../data/processed/emails.parquet')\n",
    "df = raw.dropna()\n",
    "\n",
    "print(raw.shape)\n",
    "print(df.shape)"
   ]
  },
  {
   "cell_type": "code",
   "execution_count": 3,
   "id": "f325200b",
   "metadata": {},
   "outputs": [],
   "source": [
    "def format_names(x):\n",
    "    return [y.split('@')[0] for y in x.strip().split(',')]\n",
    "\n",
    "df = df.assign(recip=df['To'].apply(format_names),\n",
    "               author=df['From'].apply(lambda x: x.strip().split('@')[0]))\n",
    "# wish this worked\n",
    "# df = df.assign(recip, author = map(lambda col: df[col].apply(format_names), ['To', 'From']))\n",
    "\n",
    "df = df.assign(recip_primary=df['recip'].apply(lambda x: x[0]))\n",
    "df[['subject', 'body']] = df[['Subject', 'Body']].apply(lambda col: col.str.strip())"
   ]
  },
  {
   "cell_type": "code",
   "execution_count": 4,
   "id": "6992c60d",
   "metadata": {},
   "outputs": [
    {
     "data": {
      "text/html": [
       "<div>\n",
       "<style scoped>\n",
       "    .dataframe tbody tr th:only-of-type {\n",
       "        vertical-align: middle;\n",
       "    }\n",
       "\n",
       "    .dataframe tbody tr th {\n",
       "        vertical-align: top;\n",
       "    }\n",
       "\n",
       "    .dataframe thead th {\n",
       "        text-align: right;\n",
       "    }\n",
       "</style>\n",
       "<table border=\"1\" class=\"dataframe\">\n",
       "  <thead>\n",
       "    <tr style=\"text-align: right;\">\n",
       "      <th></th>\n",
       "      <th>author</th>\n",
       "      <th>recip_primary</th>\n",
       "      <th>subject</th>\n",
       "      <th>body</th>\n",
       "    </tr>\n",
       "  </thead>\n",
       "  <tbody>\n",
       "    <tr>\n",
       "      <th>1</th>\n",
       "      <td>ina.rangel</td>\n",
       "      <td>amanda.huble</td>\n",
       "      <td>Headcount</td>\n",
       "      <td>Financial  (6)\\n  West Desk  (14)\\nMid Market ...</td>\n",
       "    </tr>\n",
       "    <tr>\n",
       "      <th>7</th>\n",
       "      <td>phillip.allen</td>\n",
       "      <td>ina.rangel</td>\n",
       "      <td>Re:</td>\n",
       "      <td>Ina,\\n\\n Can you pull Tori K.'s and Martin Cui...</td>\n",
       "    </tr>\n",
       "    <tr>\n",
       "      <th>8</th>\n",
       "      <td>phillip.allen</td>\n",
       "      <td>john.lavorato</td>\n",
       "      <td>Re:</td>\n",
       "      <td>resumes of whom?</td>\n",
       "    </tr>\n",
       "    <tr>\n",
       "      <th>12</th>\n",
       "      <td>phillip.allen</td>\n",
       "      <td>colleen.sullivan</td>\n",
       "      <td>Re: Transportation Reports</td>\n",
       "      <td>it is ok with me.</td>\n",
       "    </tr>\n",
       "    <tr>\n",
       "      <th>13</th>\n",
       "      <td>phillip.allen</td>\n",
       "      <td>rich</td>\n",
       "      <td>Re: Western Gas Market Report -- Draft</td>\n",
       "      <td>Richard,\\n\\n Compare your california productio...</td>\n",
       "    </tr>\n",
       "    <tr>\n",
       "      <th>...</th>\n",
       "      <td>...</td>\n",
       "      <td>...</td>\n",
       "      <td>...</td>\n",
       "      <td>...</td>\n",
       "    </tr>\n",
       "    <tr>\n",
       "      <th>126052</th>\n",
       "      <td>john.zufferli</td>\n",
       "      <td>kori.loibl</td>\n",
       "      <td>Trade with John Lavorato</td>\n",
       "      <td>This is a trade with OIL-SPEC-HEDGE-NG (John L...</td>\n",
       "    </tr>\n",
       "    <tr>\n",
       "      <th>126053</th>\n",
       "      <td>john.zufferli</td>\n",
       "      <td>john.lavorato</td>\n",
       "      <td>Gas Hedges</td>\n",
       "      <td>Some of my position is with the Alberta Term b...</td>\n",
       "    </tr>\n",
       "    <tr>\n",
       "      <th>126054</th>\n",
       "      <td>john.zufferli</td>\n",
       "      <td>dawn.doucet</td>\n",
       "      <td>RE: CONFIDENTIAL</td>\n",
       "      <td>2</td>\n",
       "    </tr>\n",
       "    <tr>\n",
       "      <th>126055</th>\n",
       "      <td>john.zufferli</td>\n",
       "      <td>jeanie.slone</td>\n",
       "      <td>Calgary Analyst/Associate</td>\n",
       "      <td>Analyst\\t\\t\\t\\t\\tRank\\n\\nStephane Brodeur\\t\\t\\...</td>\n",
       "    </tr>\n",
       "    <tr>\n",
       "      <th>126056</th>\n",
       "      <td>john.zufferli</td>\n",
       "      <td>livia_zufferli</td>\n",
       "      <td>RE: ali's essays</td>\n",
       "      <td>i think the YMCA has a class that is for peopl...</td>\n",
       "    </tr>\n",
       "  </tbody>\n",
       "</table>\n",
       "<p>103173 rows × 4 columns</p>\n",
       "</div>"
      ],
      "text/plain": [
       "               author     recip_primary  \\\n",
       "1          ina.rangel      amanda.huble   \n",
       "7       phillip.allen        ina.rangel   \n",
       "8       phillip.allen     john.lavorato   \n",
       "12      phillip.allen  colleen.sullivan   \n",
       "13      phillip.allen              rich   \n",
       "...               ...               ...   \n",
       "126052  john.zufferli        kori.loibl   \n",
       "126053  john.zufferli     john.lavorato   \n",
       "126054  john.zufferli       dawn.doucet   \n",
       "126055  john.zufferli      jeanie.slone   \n",
       "126056  john.zufferli    livia_zufferli   \n",
       "\n",
       "                                       subject  \\\n",
       "1                                    Headcount   \n",
       "7                                          Re:   \n",
       "8                                          Re:   \n",
       "12                  Re: Transportation Reports   \n",
       "13      Re: Western Gas Market Report -- Draft   \n",
       "...                                        ...   \n",
       "126052                Trade with John Lavorato   \n",
       "126053                              Gas Hedges   \n",
       "126054                        RE: CONFIDENTIAL   \n",
       "126055               Calgary Analyst/Associate   \n",
       "126056                        RE: ali's essays   \n",
       "\n",
       "                                                     body  \n",
       "1       Financial  (6)\\n  West Desk  (14)\\nMid Market ...  \n",
       "7       Ina,\\n\\n Can you pull Tori K.'s and Martin Cui...  \n",
       "8                                        resumes of whom?  \n",
       "12                                      it is ok with me.  \n",
       "13      Richard,\\n\\n Compare your california productio...  \n",
       "...                                                   ...  \n",
       "126052  This is a trade with OIL-SPEC-HEDGE-NG (John L...  \n",
       "126053  Some of my position is with the Alberta Term b...  \n",
       "126054                                                  2  \n",
       "126055  Analyst\\t\\t\\t\\t\\tRank\\n\\nStephane Brodeur\\t\\t\\...  \n",
       "126056  i think the YMCA has a class that is for peopl...  \n",
       "\n",
       "[103173 rows x 4 columns]"
      ]
     },
     "execution_count": 4,
     "metadata": {},
     "output_type": "execute_result"
    }
   ],
   "source": [
    "X = df[['author', 'recip_primary', 'subject', 'body']].dropna()\n",
    "X = X.replace('', np.nan).dropna()\n",
    "X"
   ]
  },
  {
   "cell_type": "code",
   "execution_count": 5,
   "id": "48d65568",
   "metadata": {},
   "outputs": [
    {
     "data": {
      "text/plain": [
       "1     Financial  (6)\\n  West Desk  (14)\\nMid Market ...\n",
       "7     Ina,\\n\\n Can you pull Tori K.'s and Martin Cui...\n",
       "8                                      resumes of whom?\n",
       "12                                    it is ok with me.\n",
       "13    Richard,\\n\\n Compare your california productio...\n",
       "18    Greg,\\n\\n Got your message.  Good luck on the ...\n",
       "19                   Why are his requests coming to me?\n",
       "27    Suzanne,\\n\\n Can you give me more details or e...\n",
       "28    Colleen,\\n\\n Please add Mike Grigsby to the di...\n",
       "30    Bruce,\\n\\nCan you stop by and set up my reuter...\n",
       "Name: body, dtype: object"
      ]
     },
     "execution_count": 5,
     "metadata": {},
     "output_type": "execute_result"
    }
   ],
   "source": [
    "X['body'][:10]"
   ]
  },
  {
   "cell_type": "code",
   "execution_count": 6,
   "id": "f5498f50",
   "metadata": {},
   "outputs": [],
   "source": [
    "del df\n",
    "assert X.isna().sum().sum() == 0"
   ]
  },
  {
   "cell_type": "markdown",
   "id": "e5ec3101",
   "metadata": {},
   "source": [
    "### assign labels"
   ]
  },
  {
   "cell_type": "code",
   "execution_count": 7,
   "id": "99239ae2",
   "metadata": {},
   "outputs": [
    {
     "data": {
      "text/plain": [
       "<AxesSubplot:>"
      ]
     },
     "execution_count": 7,
     "metadata": {},
     "output_type": "execute_result"
    },
    {
     "data": {
      "image/png": "[encoded data removed]",
      "text/plain": [
       "<Figure size 1152x432 with 1 Axes>"
      ]
     },
     "metadata": {
      "needs_background": "light"
     },
     "output_type": "display_data"
    }
   ],
   "source": [
    "# pd.options.display.max_rows, pd.options.display.min_rows = 64, 16\n",
    "X['author'].value_counts().hist(bins=32, figsize=(16,6))"
   ]
  },
  {
   "cell_type": "code",
   "execution_count": 8,
   "id": "a48d7148",
   "metadata": {},
   "outputs": [
    {
     "name": "stdout",
     "output_type": "stream",
     "text": [
      "33\n"
     ]
    },
    {
     "data": {
      "text/plain": [
       "kay.mann           7925\n",
       "vince.kaminski     4677\n",
       "chris.germany      4426\n",
       "jeff.dasovich      4240\n",
       "sara.shackleton    3937\n",
       "tana.jones         3285\n",
       "kate.symes         2606\n",
       "sally.beck         2457\n",
       "Name: author, dtype: int64"
      ]
     },
     "execution_count": 8,
     "metadata": {},
     "output_type": "execute_result"
    }
   ],
   "source": [
    "vc = X['author'].value_counts()\n",
    "cs = vc.cumsum() < vc.sum() * .67\n",
    "authors = vc[cs]\n",
    "\n",
    "# 33 authors account for 2/3rds of emails\n",
    "print(len(authors))\n",
    "authors[:8]"
   ]
  },
  {
   "cell_type": "code",
   "execution_count": 9,
   "id": "5962fe3c",
   "metadata": {},
   "outputs": [],
   "source": [
    "# filter to most commonly occurring authors\n",
    "mask = X['author'].apply(lambda x: x in authors.index)\n",
    "X = X[mask]"
   ]
  },
  {
   "cell_type": "code",
   "execution_count": 10,
   "id": "57b5a23d",
   "metadata": {},
   "outputs": [],
   "source": [
    "# encode authors with numerical labels\n",
    "LABEL_DICT = {}\n",
    "for index, label in enumerate(authors.index):\n",
    "    LABEL_DICT[label] = index\n",
    "# LABEL_DICT\n",
    "\n",
    "X = X.assign(label=X['author'].replace(LABEL_DICT))"
   ]
  },
  {
   "cell_type": "markdown",
   "id": "b02272ec",
   "metadata": {},
   "source": [
    "### train/test split"
   ]
  },
  {
   "cell_type": "code",
   "execution_count": 11,
   "id": "47b788fe",
   "metadata": {},
   "outputs": [],
   "source": [
    "# stratified train/test split\n",
    "X_train, X_test, y_train, y_test = train_test_split(\n",
    "    X.index.values, \n",
    "    X['label'].values, \n",
    "    test_size=0.15, \n",
    "    random_state=seed, \n",
    "    stratify=X['label'].values\n",
    ")"
   ]
  },
  {
   "cell_type": "code",
   "execution_count": 12,
   "id": "553b6df8",
   "metadata": {},
   "outputs": [],
   "source": [
    "X['data_type'] = np.nan * X.shape[0]\n",
    "X.loc[X_train, 'data_type'] = 'train'\n",
    "X.loc[X_test, 'data_type'] = 'test'\n",
    "\n",
    "# X.groupby(['author', 'label', 'data_type']).count()"
   ]
  },
  {
   "cell_type": "code",
   "execution_count": 13,
   "id": "2cd0dbc4",
   "metadata": {
    "scrolled": false
   },
   "outputs": [
    {
     "data": {
      "text/plain": [
       "<AxesSubplot:>"
      ]
     },
     "execution_count": 13,
     "metadata": {},
     "output_type": "execute_result"
    },
    {
     "data": {
      "image/png": "[encoded data removed]",
      "text/plain": [
       "<Figure size 1152x432 with 1 Axes>"
      ]
     },
     "metadata": {
      "needs_background": "light"
     },
     "output_type": "display_data"
    }
   ],
   "source": [
    "X[X['data_type']=='train']['body'].apply(len).hist(bins=32, figsize=(16,6))"
   ]
  },
  {
   "cell_type": "code",
   "execution_count": 14,
   "id": "be038bca",
   "metadata": {
    "scrolled": true
   },
   "outputs": [
    {
     "name": "stdout",
     "output_type": "stream",
     "text": [
      "{0.9: 1222, 0.95: 1869, 0.98: 3028, 0.99: 4101}\n"
     ]
    },
    {
     "data": {
      "text/plain": [
       "<matplotlib.collections.PathCollection at 0x1f6b44341c0>"
      ]
     },
     "execution_count": 14,
     "metadata": {},
     "output_type": "execute_result"
    },
    {
     "data": {
      "image/png": "[encoded data removed]",
      "text/plain": [
       "<Figure size 432x288 with 1 Axes>"
      ]
     },
     "metadata": {
      "needs_background": "light"
     },
     "output_type": "display_data"
    }
   ],
   "source": [
    "vc = X['body'].apply(len).value_counts().sort_index()\n",
    "percents = [.9, .95, .98, .99]\n",
    "cs = map(lambda x: vc.cumsum() < vc.sum() * x, percents)\n",
    "lens = [vc[~i].index.min() for i in cs]\n",
    "points = dict(zip(percents, lens))\n",
    "\n",
    "print(points)\n",
    "plt.scatter(percents, lens)\n",
    "\n",
    "# 95% of emails are no longer than 1869 characters"
   ]
  },
  {
   "cell_type": "code",
   "execution_count": 15,
   "id": "dca8ab48",
   "metadata": {},
   "outputs": [],
   "source": [
    "max_len = points[0.95]"
   ]
  },
  {
   "cell_type": "markdown",
   "id": "72f95f29",
   "metadata": {},
   "source": [
    "### tokenize"
   ]
  },
  {
   "cell_type": "code",
   "execution_count": 16,
   "id": "a3beee6f",
   "metadata": {},
   "outputs": [],
   "source": [
    "import torch\n",
    "from torch.utils.data import TensorDataset, DataLoader, RandomSampler, SequentialSampler\n",
    "from transformers import BertTokenizer, BertForSequenceClassification, AdamW, get_linear_schedule_with_warmup"
   ]
  },
  {
   "cell_type": "code",
   "execution_count": 17,
   "id": "046e2cec",
   "metadata": {},
   "outputs": [],
   "source": [
    "tokenizer = BertTokenizer.from_pretrained('bert-base-uncased', do_lower_case=True)"
   ]
  },
  {
   "cell_type": "code",
   "execution_count": 18,
   "id": "e9880fbd",
   "metadata": {},
   "outputs": [],
   "source": [
    "# partial evaluation (curry) for setting default values\n",
    "tokenizer_cur = curry(tokenizer.batch_encode_plus)(\n",
    "    add_special_tokens=True, \n",
    "    return_attention_mask=True, \n",
    "    padding='max_length', \n",
    "    max_length=max_len,\n",
    "    truncation=True,\n",
    "    return_tensors='pt'\n",
    ")"
   ]
  },
  {
   "cell_type": "code",
   "execution_count": 19,
   "id": "4ebfbdce",
   "metadata": {},
   "outputs": [],
   "source": [
    "n_train = 10000\n",
    "mask_train = X['data_type']=='train'\n",
    "\n",
    "encoded_data_train = tokenizer_cur(\n",
    "    X[mask_train]['body'][:n_train].values\n",
    ")"
   ]
  },
  {
   "cell_type": "code",
   "execution_count": 20,
   "id": "9960e95d",
   "metadata": {},
   "outputs": [],
   "source": [
    "n_test = 1000\n",
    "mask_test = X['data_type']=='test'\n",
    "\n",
    "encoded_data_test = tokenizer_cur(\n",
    "    X[mask_test]['body'][:n_test].values\n",
    ")"
   ]
  },
  {
   "cell_type": "code",
   "execution_count": 21,
   "id": "6c0a37c1",
   "metadata": {},
   "outputs": [],
   "source": [
    "input_ids_train = encoded_data_train['input_ids']\n",
    "attention_masks_train = encoded_data_train['attention_mask']\n",
    "labels_train = torch.tensor(X[mask_train]['label'][:n_train].values)\n",
    "\n",
    "input_ids_test = encoded_data_test['input_ids']\n",
    "attention_masks_test = encoded_data_test['attention_mask']\n",
    "labels_test = torch.tensor(X[mask_test]['label'][:n_test].values)\n",
    "\n",
    "dataset_train = TensorDataset(input_ids_train, attention_masks_train, labels_train)\n",
    "dataset_test = TensorDataset(input_ids_test, attention_masks_test, labels_test)"
   ]
  },
  {
   "cell_type": "markdown",
   "id": "f8cb50af",
   "metadata": {},
   "source": [
    "### bert"
   ]
  },
  {
   "cell_type": "code",
   "execution_count": 22,
   "id": "cabc06f2",
   "metadata": {},
   "outputs": [
    {
     "name": "stderr",
     "output_type": "stream",
     "text": [
      "Some weights of the model checkpoint at bert-base-uncased were not used when initializing BertForSequenceClassification: ['cls.predictions.bias', 'cls.predictions.transform.dense.weight', 'cls.predictions.transform.dense.bias', 'cls.predictions.decoder.weight', 'cls.seq_relationship.weight', 'cls.seq_relationship.bias', 'cls.predictions.transform.LayerNorm.weight', 'cls.predictions.transform.LayerNorm.bias']\n",
      "- This IS expected if you are initializing BertForSequenceClassification from the checkpoint of a model trained on another task or with another architecture (e.g. initializing a BertForSequenceClassification model from a BertForPreTraining model).\n",
      "- This IS NOT expected if you are initializing BertForSequenceClassification from the checkpoint of a model that you expect to be exactly identical (initializing a BertForSequenceClassification model from a BertForSequenceClassification model).\n",
      "Some weights of BertForSequenceClassification were not initialized from the model checkpoint at bert-base-uncased and are newly initialized: ['classifier.weight', 'classifier.bias']\n",
      "You should probably TRAIN this model on a down-stream task to be able to use it for predictions and inference.\n"
     ]
    }
   ],
   "source": [
    "model = BertForSequenceClassification.from_pretrained(\n",
    "    \"bert-base-uncased\",\n",
    "    num_labels=len(LABEL_DICT),\n",
    "    output_attentions=False,\n",
    "    output_hidden_states=False\n",
    ")"
   ]
  },
  {
   "cell_type": "code",
   "execution_count": 23,
   "id": "5ad45195",
   "metadata": {},
   "outputs": [],
   "source": [
    "batch_size = 3\n",
    "\n",
    "dataloader_train = DataLoader(\n",
    "    dataset_train, \n",
    "    sampler=RandomSampler(dataset_train), \n",
    "    batch_size=batch_size\n",
    ")\n",
    "dataloader_tet = DataLoader(\n",
    "    dataset_test, \n",
    "    sampler=SequentialSampler(dataset_test), \n",
    "    batch_size=batch_size\n",
    ")"
   ]
  },
  {
   "cell_type": "code",
   "execution_count": 24,
   "id": "4eb6710f",
   "metadata": {},
   "outputs": [],
   "source": [
    "epochs = 5\n",
    "\n",
    "optimizer = AdamW(\n",
    "    model.parameters(),\n",
    "    lr=1e-5, \n",
    "    eps=1e-8\n",
    ")\n",
    "scheduler = get_linear_schedule_with_warmup(\n",
    "    optimizer, \n",
    "    num_warmup_steps=0,\n",
    "    num_training_steps=len(dataloader_train) * epochs\n",
    ")"
   ]
  },
  {
   "cell_type": "code",
   "execution_count": 25,
   "id": "14b0e600",
   "metadata": {},
   "outputs": [],
   "source": [
    "def f1_score_func(preds, labels):\n",
    "    preds_flat = np.argmax(preds, axis=1).flatten()\n",
    "    labels_flat = labels.flatten()\n",
    "    return f1_score(labels_flat, preds_flat, average='weighted')\n",
    "\n",
    "def accuracy_per_class(preds, labels):\n",
    "    label_dict_inverse = {v: k for k, v in LABEL_DICT.items()}\n",
    "    preds_flat = np.argmax(preds, axis=1).flatten()\n",
    "    labels_flat = labels.flatten()\n",
    "\n",
    "    for label in np.unique(labels_flat):\n",
    "        y_preds = preds_flat[labels_flat == label]\n",
    "        y_true = labels_flat[labels_flat == label]\n",
    "        print(f'Class: {label_dict_inverse[label]}')\n",
    "        print(f'Accuracy: {len(y_preds[y_preds == label])} / {len(y_true)}\\n')"
   ]
  },
  {
   "cell_type": "markdown",
   "id": "48933656",
   "metadata": {},
   "source": [
    "### training"
   ]
  },
  {
   "cell_type": "code",
   "execution_count": 26,
   "id": "bb96dad4",
   "metadata": {},
   "outputs": [],
   "source": [
    "random.seed(seed)\n",
    "np.random.seed(seed)\n",
    "torch.manual_seed(seed)\n",
    "torch.cuda.manual_seed_all(seed)"
   ]
  },
  {
   "cell_type": "code",
   "execution_count": null,
   "id": "c1837d61",
   "metadata": {},
   "outputs": [],
   "source": [
    "def input_dict(batch):\n",
    "    return {\n",
    "        'input_ids': batch[0],\n",
    "        'attention_mask': batch[1],\n",
    "        'labels': batch[2]\n",
    "    }"
   ]
  },
  {
   "cell_type": "code",
   "execution_count": 104,
   "id": "d2ef0a26",
   "metadata": {},
   "outputs": [],
   "source": [
    "def evaluate(dataloader_test):\n",
    "\n",
    "    model.eval()\n",
    "    \n",
    "    loss_test_total = 0\n",
    "    predictions, true_tests = [], []\n",
    "    \n",
    "    for batch in dataloader_test:\n",
    "\n",
    "        batch = tuple(b.to(device) for b in batch)\n",
    "        inputs = input_dict(batch)\n",
    "\n",
    "        with torch.no_grad():        \n",
    "            outputs = model(**inputs)\n",
    "            \n",
    "        loss = outputs[0]\n",
    "        logits = outputs[1]\n",
    "        loss_test_total += loss.item()\n",
    "\n",
    "        logits = logits.detach().cpu().numpy()\n",
    "        label_ids = inputs['labels'].cpu().numpy()\n",
    "        predictions.append(logits)\n",
    "        true_tests.append(label_ids)\n",
    "    \n",
    "    loss_test_avg = loss_test_total / len(dataloader_test) \n",
    "    \n",
    "    predictions = np.concatenate(predictions, axis=0)\n",
    "    true_tests = np.concatenate(true_tests, axis=0)\n",
    "            \n",
    "    return loss_test_avg, predictions, true_tests"
   ]
  },
  {
   "cell_type": "code",
   "execution_count": 105,
   "id": "40cda806",
   "metadata": {},
   "outputs": [
    {
     "data": {
      "application/vnd.jupyter.widget-view+json": {
       "model_id": "44b00ca110354552be3da0dee687a49f",
       "version_major": 2,
       "version_minor": 0
      },
      "text/plain": [
       "  0%|          | 0/5 [00:00<?, ?it/s]"
      ]
     },
     "metadata": {},
     "output_type": "display_data"
    },
    {
     "data": {
      "application/vnd.jupyter.widget-view+json": {
       "model_id": "91ec8e98eaaa4e8cb2059fbf8e02fdb4",
       "version_major": 2,
       "version_minor": 0
      },
      "text/plain": [
       "Epoch 1:   0%|          | 0/3334 [00:00<?, ?it/s]"
      ]
     },
     "metadata": {},
     "output_type": "display_data"
    },
    {
     "ename": "NameError",
     "evalue": "name 'device' is not defined",
     "output_type": "error",
     "traceback": [
      "\u001b[1;31m---------------------------------------------------------------------------\u001b[0m",
      "\u001b[1;31mNameError\u001b[0m                                 Traceback (most recent call last)",
      "\u001b[1;32m<ipython-input-105-48f82d3d7453>\u001b[0m in \u001b[0;36m<module>\u001b[1;34m\u001b[0m\n\u001b[0;32m     12\u001b[0m         \u001b[0mmodel\u001b[0m\u001b[1;33m.\u001b[0m\u001b[0mzero_grad\u001b[0m\u001b[1;33m(\u001b[0m\u001b[1;33m)\u001b[0m\u001b[1;33m\u001b[0m\u001b[1;33m\u001b[0m\u001b[0m\n\u001b[0;32m     13\u001b[0m \u001b[1;33m\u001b[0m\u001b[0m\n\u001b[1;32m---> 14\u001b[1;33m         \u001b[0mbatch\u001b[0m \u001b[1;33m=\u001b[0m \u001b[0mtuple\u001b[0m\u001b[1;33m(\u001b[0m\u001b[0mb\u001b[0m\u001b[1;33m.\u001b[0m\u001b[0mto\u001b[0m\u001b[1;33m(\u001b[0m\u001b[0mdevice\u001b[0m\u001b[1;33m)\u001b[0m \u001b[1;32mfor\u001b[0m \u001b[0mb\u001b[0m \u001b[1;32min\u001b[0m \u001b[0mbatch\u001b[0m\u001b[1;33m)\u001b[0m\u001b[1;33m\u001b[0m\u001b[1;33m\u001b[0m\u001b[0m\n\u001b[0m\u001b[0;32m     15\u001b[0m         \u001b[0minputs\u001b[0m \u001b[1;33m=\u001b[0m \u001b[0minput_dict\u001b[0m\u001b[1;33m(\u001b[0m\u001b[0mbatch\u001b[0m\u001b[1;33m)\u001b[0m\u001b[1;33m\u001b[0m\u001b[1;33m\u001b[0m\u001b[0m\n\u001b[0;32m     16\u001b[0m         \u001b[0moutputs\u001b[0m \u001b[1;33m=\u001b[0m \u001b[0mmodel\u001b[0m\u001b[1;33m(\u001b[0m\u001b[1;33m**\u001b[0m\u001b[0minputs\u001b[0m\u001b[1;33m)\u001b[0m\u001b[1;33m\u001b[0m\u001b[1;33m\u001b[0m\u001b[0m\n",
      "\u001b[1;32m<ipython-input-105-48f82d3d7453>\u001b[0m in \u001b[0;36m<genexpr>\u001b[1;34m(.0)\u001b[0m\n\u001b[0;32m     12\u001b[0m         \u001b[0mmodel\u001b[0m\u001b[1;33m.\u001b[0m\u001b[0mzero_grad\u001b[0m\u001b[1;33m(\u001b[0m\u001b[1;33m)\u001b[0m\u001b[1;33m\u001b[0m\u001b[1;33m\u001b[0m\u001b[0m\n\u001b[0;32m     13\u001b[0m \u001b[1;33m\u001b[0m\u001b[0m\n\u001b[1;32m---> 14\u001b[1;33m         \u001b[0mbatch\u001b[0m \u001b[1;33m=\u001b[0m \u001b[0mtuple\u001b[0m\u001b[1;33m(\u001b[0m\u001b[0mb\u001b[0m\u001b[1;33m.\u001b[0m\u001b[0mto\u001b[0m\u001b[1;33m(\u001b[0m\u001b[0mdevice\u001b[0m\u001b[1;33m)\u001b[0m \u001b[1;32mfor\u001b[0m \u001b[0mb\u001b[0m \u001b[1;32min\u001b[0m \u001b[0mbatch\u001b[0m\u001b[1;33m)\u001b[0m\u001b[1;33m\u001b[0m\u001b[1;33m\u001b[0m\u001b[0m\n\u001b[0m\u001b[0;32m     15\u001b[0m         \u001b[0minputs\u001b[0m \u001b[1;33m=\u001b[0m \u001b[0minput_dict\u001b[0m\u001b[1;33m(\u001b[0m\u001b[0mbatch\u001b[0m\u001b[1;33m)\u001b[0m\u001b[1;33m\u001b[0m\u001b[1;33m\u001b[0m\u001b[0m\n\u001b[0;32m     16\u001b[0m         \u001b[0moutputs\u001b[0m \u001b[1;33m=\u001b[0m \u001b[0mmodel\u001b[0m\u001b[1;33m(\u001b[0m\u001b[1;33m**\u001b[0m\u001b[0minputs\u001b[0m\u001b[1;33m)\u001b[0m\u001b[1;33m\u001b[0m\u001b[1;33m\u001b[0m\u001b[0m\n",
      "\u001b[1;31mNameError\u001b[0m: name 'device' is not defined"
     ]
    }
   ],
   "source": [
    "for epoch in tqdm(range(1, epochs+1)):\n",
    "    \n",
    "    model.train()\n",
    "    \n",
    "    loss_train_total = 0\n",
    "    progress_bar = tqdm(\n",
    "        dataloader_train, desc='Epoch {:1d}'.format(epoch), leave=False, disable=False\n",
    "    )\n",
    "    \n",
    "    for batch in progress_bar:\n",
    "        \n",
    "        model.zero_grad()\n",
    "        \n",
    "        batch = tuple(b.to(device) for b in batch)\n",
    "        inputs = input_dict(batch)    \n",
    "        outputs = model(**inputs)\n",
    "        \n",
    "        loss = outputs[0]\n",
    "        loss_train_total += loss.item()\n",
    "        loss.backward()\n",
    "\n",
    "        torch.nn.utils.clip_grad_norm_(model.parameters(), 1.0)\n",
    "\n",
    "        optimizer.step()\n",
    "        scheduler.step()\n",
    "        \n",
    "        progress_bar.set_postfix({'training_loss': '{:.3f}'.format(loss.item() / len(batch))})\n",
    "         \n",
    "        \n",
    "    torch.save(model.state_dict(), f'data_volume/finetuned_BERT_epoch_{epoch}.model')\n",
    "        \n",
    "    tqdm.write(f'\\nEpoch {epoch}')\n",
    "    \n",
    "    loss_train_avg = loss_train_total / len(dataloader_train)            \n",
    "    tqdm.write(f'Training loss: {loss_train_avg}')\n",
    "    \n",
    "    test_loss, predictions, true_tests = evaluate(dataloader_test)\n",
    "    test_f1 = f1_score_func(predictions, true_tests)\n",
    "    tqdm.write(f'Test loss: {test_loss}')\n",
    "    tqdm.write(f'F1 Score (Weighted): {test_f1}')"
   ]
  },
  {
   "cell_type": "code",
   "execution_count": null,
   "id": "c58aeb6c",
   "metadata": {},
   "outputs": [],
   "source": []
  },
  {
   "cell_type": "code",
   "execution_count": null,
   "id": "6b9b3dca",
   "metadata": {},
   "outputs": [],
   "source": []
  },
  {
   "cell_type": "code",
   "execution_count": null,
   "id": "ad5a4c63",
   "metadata": {},
   "outputs": [],
   "source": []
  }
 ],
 "metadata": {
  "kernelspec": {
   "display_name": "Python 3",
   "language": "python",
   "name": "python3"
  },
  "language_info": {
   "codemirror_mode": {
    "name": "ipython",
    "version": 3
   },
   "file_extension": ".py",
   "mimetype": "text/x-python",
   "name": "python",
   "nbconvert_exporter": "python",
   "pygments_lexer": "ipython3",
   "version": "3.8.8"
  }
 },
 "nbformat": 4,
 "nbformat_minor": 5
}
