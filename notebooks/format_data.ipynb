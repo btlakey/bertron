{
 "cells": [
  {
   "cell_type": "code",
   "execution_count": 1,
   "id": "f4bce39c",
   "metadata": {},
   "outputs": [],
   "source": [
    "import glob\n",
    "from pprint import pprint\n",
    "import pandas as pd\n",
    "import numpy as np\n",
    "import json"
   ]
  },
  {
   "cell_type": "markdown",
   "id": "709f47a3",
   "metadata": {},
   "source": [
    "### format data from raw text files"
   ]
  },
  {
   "cell_type": "code",
   "execution_count": 2,
   "id": "a37d1e67",
   "metadata": {},
   "outputs": [],
   "source": [
    "def format_email(data, fields=[\n",
    "    'To', 'X-To', 'From', 'X-From', 'cc', 'X-cc', 'Subject', 'Body'\n",
    "]):\n",
    "    \"\"\"\n",
    "    Given a plain text email file, return a dictionary of key:value pairs according to \n",
    "    fields specified in function arg call\n",
    "    \n",
    "    :param data: str\n",
    "        contents of emails from Enron corpus, access via file.read()\n",
    "    :param fields: list\n",
    "        list of strings from available email metadata included as plain text\n",
    "    \n",
    "    :return: dict\n",
    "        dictionary of key:value pairs according to fields specified in args\n",
    "    \"\"\"\n",
    "    \n",
    "    d = {}\n",
    "\n",
    "    lines = data.split('\\n')\n",
    "    for i in range(0, len(lines)):\n",
    "        \n",
    "        # header info ends with blank line\n",
    "        if lines[i] != '':\n",
    "            try:\n",
    "                # field and value delimited with :\n",
    "                key, value = lines[i].split(':', maxsplit=1)\n",
    "            except:\n",
    "                try:\n",
    "                    # sometimes line continuations\n",
    "                    value += lines[i].split('\\t', maxsplit=1)[1]\n",
    "                except:\n",
    "                    pass\n",
    "                \n",
    "            # add entry to dict\n",
    "            d[key] = value\n",
    "        else:\n",
    "            break\n",
    "\n",
    "    \n",
    "    key = 'Body'\n",
    "    value = []\n",
    "    # after header is text body, skip empty line\n",
    "    for j in range(i+1, len(lines)):\n",
    "        \n",
    "        # anything below dashes are forwards/replies, don't include\n",
    "        if not ((lines[j].startswith(' -----')) or \n",
    "               (lines[j].startswith('-----'))):\n",
    "            \n",
    "            # append each line\n",
    "            value.append(lines[j])\n",
    "        else: \n",
    "            break\n",
    "            \n",
    "    # preserve original white space\n",
    "    d[key] = '\\n'.join(value)\n",
    "\n",
    "    # only return certain header info specified in function args\n",
    "    return {key: d[key] for key in fields if key in d}"
   ]
  },
  {
   "cell_type": "code",
   "execution_count": 3,
   "id": "fec0fe28",
   "metadata": {},
   "outputs": [
    {
     "name": "stdout",
     "output_type": "stream",
     "text": [
      "number of sent items: 126058\n"
     ]
    }
   ],
   "source": [
    "f_paths = []\n",
    "\n",
    "# use glob to search for all sent items\n",
    "for f_name in glob.glob('..\\data\\maildir\\*\\*sent*\\*'):\n",
    "    # some weird windows thing, the slashes are all the wrong way\n",
    "    f_paths.append(f_name.replace('\\\\', '/'))\n",
    "    \n",
    "print(f'number of sent items: {len(f_paths)}')"
   ]
  },
  {
   "cell_type": "code",
   "execution_count": 10,
   "id": "9bf996ed",
   "metadata": {},
   "outputs": [],
   "source": [
    "# main invocation\n",
    "emails = []\n",
    "for f_path in f_paths:\n",
    "    try:\n",
    "        with open(f_path, 'r') as f:\n",
    "            # loop through glob filepaths and append to list of dicts\n",
    "            emails.append(format_email(f.read()))\n",
    "    except:\n",
    "        pass\n",
    "\n",
    "print(f'emails processed: {len(emails)}')"
   ]
  },
  {
   "cell_type": "code",
   "execution_count": 7,
   "id": "0416153a",
   "metadata": {},
   "outputs": [
    {
     "data": {
      "text/plain": [
       "{'To': ' christi.nicolay@enron.com, james.steffes@enron.com, jeff.dasovich@enron.com, joe.hartsoe@enron.com, mary.hain@enron.com, pallen@enron.com, pkaufma@enron.com, richard.sanders@enron.com, richard.shapiro@enron.com, stephanie.miller@enron.com, steven.kean@enron.com, susan.mara@enron.com, rebecca.cantrell@enron.com',\n",
       " 'X-To': ' Christi L Nicolay, James D Steffes, Jeff Dasovich, Joe Hartsoe, Mary Hain, pallen@enron.com, pkaufma@enron.com, Richard B Sanders, Richard Shapiro, Stephanie Miller, Steven J Kean, Susan J Mara, Rebecca W Cantrell',\n",
       " 'From': ' phillip.allen@enron.com',\n",
       " 'X-From': ' Phillip K Allen',\n",
       " 'X-cc': ' ',\n",
       " 'Subject': ' ',\n",
       " 'Body': 'Attached  are two files that illustrate the following:\\n\\nAs prices rose, supply increased and demand decreased.  Now prices are \\nbeginning to fall in response these market responses. \\n\\n\\n\\n\\n\\n\\n\\n\\n\\n'}"
      ]
     },
     "execution_count": 7,
     "metadata": {},
     "output_type": "execute_result"
    }
   ],
   "source": [
    "emails[0]"
   ]
  },
  {
   "cell_type": "code",
   "execution_count": 11,
   "id": "9d297e8c",
   "metadata": {},
   "outputs": [],
   "source": [
    "# write to disk\n",
    "df = pd.DataFrame(emails).dropna()\n",
    "df.to_parquet('../data/processed/emails.parquet')"
   ]
  },
  {
   "cell_type": "code",
   "execution_count": null,
   "id": "e72e59d4",
   "metadata": {},
   "outputs": [],
   "source": [
    "pprint(emails[-3:])"
   ]
  },
  {
   "cell_type": "code",
   "execution_count": 6,
   "id": "94251821",
   "metadata": {},
   "outputs": [
    {
     "data": {
      "text/html": [
       "<div>\n",
       "<style scoped>\n",
       "    .dataframe tbody tr th:only-of-type {\n",
       "        vertical-align: middle;\n",
       "    }\n",
       "\n",
       "    .dataframe tbody tr th {\n",
       "        vertical-align: top;\n",
       "    }\n",
       "\n",
       "    .dataframe thead th {\n",
       "        text-align: right;\n",
       "    }\n",
       "</style>\n",
       "<table border=\"1\" class=\"dataframe\">\n",
       "  <thead>\n",
       "    <tr style=\"text-align: right;\">\n",
       "      <th></th>\n",
       "      <th>To</th>\n",
       "      <th>X-To</th>\n",
       "      <th>From</th>\n",
       "      <th>X-From</th>\n",
       "      <th>X-cc</th>\n",
       "      <th>Subject</th>\n",
       "      <th>Body</th>\n",
       "    </tr>\n",
       "  </thead>\n",
       "  <tbody>\n",
       "    <tr>\n",
       "      <th>0</th>\n",
       "      <td>christi.nicolay@enron.com, james.steffes@enro...</td>\n",
       "      <td>Christi L Nicolay, James D Steffes, Jeff Daso...</td>\n",
       "      <td>phillip.allen@enron.com</td>\n",
       "      <td>Phillip K Allen</td>\n",
       "      <td></td>\n",
       "      <td></td>\n",
       "      <td>Attached  are two files that illustrate the fo...</td>\n",
       "    </tr>\n",
       "    <tr>\n",
       "      <th>1</th>\n",
       "      <td>amanda.huble@enron.com</td>\n",
       "      <td>Amanda Huble</td>\n",
       "      <td>ina.rangel@enron.com</td>\n",
       "      <td>Ina Rangel</td>\n",
       "      <td></td>\n",
       "      <td>Headcount</td>\n",
       "      <td>Financial  (6)\\n  West Desk  (14)\\nMid Market ...</td>\n",
       "    </tr>\n",
       "    <tr>\n",
       "      <th>2</th>\n",
       "      <td>pallen70@hotmail.com</td>\n",
       "      <td>pallen70@hotmail.com</td>\n",
       "      <td>phillip.allen@enron.com</td>\n",
       "      <td>Phillip K Allen</td>\n",
       "      <td></td>\n",
       "      <td>utilities roll</td>\n",
       "      <td></td>\n",
       "    </tr>\n",
       "    <tr>\n",
       "      <th>3</th>\n",
       "      <td>ina.rangel@enron.com</td>\n",
       "      <td>Ina Rangel</td>\n",
       "      <td>phillip.allen@enron.com</td>\n",
       "      <td>Phillip K Allen</td>\n",
       "      <td></td>\n",
       "      <td>TIME SENSITIVE: Executive Impact &amp; Influence ...</td>\n",
       "      <td></td>\n",
       "    </tr>\n",
       "    <tr>\n",
       "      <th>4</th>\n",
       "      <td>retwell@sanmarcos.net</td>\n",
       "      <td>retwell@sanmarcos.net</td>\n",
       "      <td>phillip.allen@enron.com</td>\n",
       "      <td>Phillip K Allen</td>\n",
       "      <td></td>\n",
       "      <td></td>\n",
       "      <td>Larry,\\n\\n Just a note to touch base on the sa...</td>\n",
       "    </tr>\n",
       "    <tr>\n",
       "      <th>...</th>\n",
       "      <td>...</td>\n",
       "      <td>...</td>\n",
       "      <td>...</td>\n",
       "      <td>...</td>\n",
       "      <td>...</td>\n",
       "      <td>...</td>\n",
       "      <td>...</td>\n",
       "    </tr>\n",
       "    <tr>\n",
       "      <th>126052</th>\n",
       "      <td>kori.loibl@enron.com</td>\n",
       "      <td>Loibl, Kori &lt;/O=ENRON/OU=NA/CN=RECIPIENTS/CN=...</td>\n",
       "      <td>john.zufferli@enron.com</td>\n",
       "      <td>Zufferli, John &lt;/O=ENRON/OU=NA/CN=RECIPIENTS/...</td>\n",
       "      <td></td>\n",
       "      <td>Trade with John Lavorato</td>\n",
       "      <td>This is a trade with OIL-SPEC-HEDGE-NG (John L...</td>\n",
       "    </tr>\n",
       "    <tr>\n",
       "      <th>126053</th>\n",
       "      <td>john.lavorato@enron.com</td>\n",
       "      <td>Lavorato, John &lt;/O=ENRON/OU=NA/CN=RECIPIENTS/...</td>\n",
       "      <td>john.zufferli@enron.com</td>\n",
       "      <td>Zufferli, John &lt;/O=ENRON/OU=NA/CN=RECIPIENTS/...</td>\n",
       "      <td></td>\n",
       "      <td>Gas Hedges</td>\n",
       "      <td>Some of my position is with the Alberta Term b...</td>\n",
       "    </tr>\n",
       "    <tr>\n",
       "      <th>126054</th>\n",
       "      <td>dawn.doucet@enron.com</td>\n",
       "      <td>Doucet, Dawn &lt;/O=ENRON/OU=NA/CN=RECIPIENTS/CN...</td>\n",
       "      <td>john.zufferli@enron.com</td>\n",
       "      <td>Zufferli, John &lt;/O=ENRON/OU=NA/CN=RECIPIENTS/...</td>\n",
       "      <td></td>\n",
       "      <td>RE: CONFIDENTIAL</td>\n",
       "      <td>2\\n</td>\n",
       "    </tr>\n",
       "    <tr>\n",
       "      <th>126055</th>\n",
       "      <td>jeanie.slone@enron.com</td>\n",
       "      <td>Slone, Jeanie &lt;/O=ENRON/OU=NA/CN=RECIPIENTS/C...</td>\n",
       "      <td>john.zufferli@enron.com</td>\n",
       "      <td>Zufferli, John &lt;/O=ENRON/OU=NA/CN=RECIPIENTS/...</td>\n",
       "      <td></td>\n",
       "      <td>Calgary Analyst/Associate</td>\n",
       "      <td>Analyst\\t\\t\\t\\t\\tRank\\n\\nStephane Brodeur\\t\\t\\...</td>\n",
       "    </tr>\n",
       "    <tr>\n",
       "      <th>126056</th>\n",
       "      <td>livia_zufferli@monitor.com</td>\n",
       "      <td>'Livia_Zufferli@Monitor.com@ENRON'</td>\n",
       "      <td>john.zufferli@enron.com</td>\n",
       "      <td>Zufferli, John &lt;/O=ENRON/OU=NA/CN=RECIPIENTS/...</td>\n",
       "      <td></td>\n",
       "      <td>RE: ali's essays</td>\n",
       "      <td>i think the YMCA has a class that is for peopl...</td>\n",
       "    </tr>\n",
       "  </tbody>\n",
       "</table>\n",
       "<p>126057 rows × 7 columns</p>\n",
       "</div>"
      ],
      "text/plain": [
       "                                                       To  \\\n",
       "0        christi.nicolay@enron.com, james.steffes@enro...   \n",
       "1                                  amanda.huble@enron.com   \n",
       "2                                    pallen70@hotmail.com   \n",
       "3                                    ina.rangel@enron.com   \n",
       "4                                   retwell@sanmarcos.net   \n",
       "...                                                   ...   \n",
       "126052                               kori.loibl@enron.com   \n",
       "126053                            john.lavorato@enron.com   \n",
       "126054                              dawn.doucet@enron.com   \n",
       "126055                             jeanie.slone@enron.com   \n",
       "126056                         livia_zufferli@monitor.com   \n",
       "\n",
       "                                                     X-To  \\\n",
       "0        Christi L Nicolay, James D Steffes, Jeff Daso...   \n",
       "1                                            Amanda Huble   \n",
       "2                                    pallen70@hotmail.com   \n",
       "3                                              Ina Rangel   \n",
       "4                                   retwell@sanmarcos.net   \n",
       "...                                                   ...   \n",
       "126052   Loibl, Kori </O=ENRON/OU=NA/CN=RECIPIENTS/CN=...   \n",
       "126053   Lavorato, John </O=ENRON/OU=NA/CN=RECIPIENTS/...   \n",
       "126054   Doucet, Dawn </O=ENRON/OU=NA/CN=RECIPIENTS/CN...   \n",
       "126055   Slone, Jeanie </O=ENRON/OU=NA/CN=RECIPIENTS/C...   \n",
       "126056                 'Livia_Zufferli@Monitor.com@ENRON'   \n",
       "\n",
       "                            From  \\\n",
       "0        phillip.allen@enron.com   \n",
       "1           ina.rangel@enron.com   \n",
       "2        phillip.allen@enron.com   \n",
       "3        phillip.allen@enron.com   \n",
       "4        phillip.allen@enron.com   \n",
       "...                          ...   \n",
       "126052   john.zufferli@enron.com   \n",
       "126053   john.zufferli@enron.com   \n",
       "126054   john.zufferli@enron.com   \n",
       "126055   john.zufferli@enron.com   \n",
       "126056   john.zufferli@enron.com   \n",
       "\n",
       "                                                   X-From X-cc  \\\n",
       "0                                         Phillip K Allen        \n",
       "1                                              Ina Rangel        \n",
       "2                                         Phillip K Allen        \n",
       "3                                         Phillip K Allen        \n",
       "4                                         Phillip K Allen        \n",
       "...                                                   ...  ...   \n",
       "126052   Zufferli, John </O=ENRON/OU=NA/CN=RECIPIENTS/...        \n",
       "126053   Zufferli, John </O=ENRON/OU=NA/CN=RECIPIENTS/...        \n",
       "126054   Zufferli, John </O=ENRON/OU=NA/CN=RECIPIENTS/...        \n",
       "126055   Zufferli, John </O=ENRON/OU=NA/CN=RECIPIENTS/...        \n",
       "126056   Zufferli, John </O=ENRON/OU=NA/CN=RECIPIENTS/...        \n",
       "\n",
       "                                                  Subject  \\\n",
       "0                                                           \n",
       "1                                               Headcount   \n",
       "2                                          utilities roll   \n",
       "3        TIME SENSITIVE: Executive Impact & Influence ...   \n",
       "4                                                           \n",
       "...                                                   ...   \n",
       "126052                           Trade with John Lavorato   \n",
       "126053                                         Gas Hedges   \n",
       "126054                                   RE: CONFIDENTIAL   \n",
       "126055                          Calgary Analyst/Associate   \n",
       "126056                                   RE: ali's essays   \n",
       "\n",
       "                                                     Body  \n",
       "0       Attached  are two files that illustrate the fo...  \n",
       "1       Financial  (6)\\n  West Desk  (14)\\nMid Market ...  \n",
       "2                                                          \n",
       "3                                                          \n",
       "4       Larry,\\n\\n Just a note to touch base on the sa...  \n",
       "...                                                   ...  \n",
       "126052  This is a trade with OIL-SPEC-HEDGE-NG (John L...  \n",
       "126053  Some of my position is with the Alberta Term b...  \n",
       "126054                                                2\\n  \n",
       "126055  Analyst\\t\\t\\t\\t\\tRank\\n\\nStephane Brodeur\\t\\t\\...  \n",
       "126056  i think the YMCA has a class that is for peopl...  \n",
       "\n",
       "[126057 rows x 7 columns]"
      ]
     },
     "metadata": {},
     "output_type": "display_data"
    }
   ],
   "source": [
    "display(df)"
   ]
  },
  {
   "cell_type": "markdown",
   "id": "7099635c",
   "metadata": {},
   "source": [
    "### format data for model training"
   ]
  },
  {
   "cell_type": "code",
   "execution_count": 16,
   "id": "3439c483",
   "metadata": {},
   "outputs": [],
   "source": [
    "df = pd.read_parquet('../data/processed/emails.parquet')\n",
    "df = df.dropna()"
   ]
  },
  {
   "cell_type": "code",
   "execution_count": 17,
   "id": "605d43a3",
   "metadata": {},
   "outputs": [],
   "source": [
    "def format_names(x):\n",
    "    return [y.split('@')[0] for y in x.strip().split(',')]\n",
    "\n",
    "df = df.assign(recip=df['To'].apply(format_names),\n",
    "               author=df['From'].apply(lambda x: x.strip().split('@')[0]))\n",
    "# wish this worked\n",
    "# df = df.assign(recip, author = map(lambda col: df[col].apply(format_names), ['To', 'From']))\n",
    "\n",
    "df = df.assign(recip_primary=df['recip'].apply(lambda x: x[0]))\n",
    "df[['subject', 'body']] = df[['Subject', 'Body']].apply(lambda col: col.str.strip())"
   ]
  },
  {
   "cell_type": "code",
   "execution_count": 18,
   "id": "57bdedb7",
   "metadata": {},
   "outputs": [
    {
     "data": {
      "text/html": [
       "<div>\n",
       "<style scoped>\n",
       "    .dataframe tbody tr th:only-of-type {\n",
       "        vertical-align: middle;\n",
       "    }\n",
       "\n",
       "    .dataframe tbody tr th {\n",
       "        vertical-align: top;\n",
       "    }\n",
       "\n",
       "    .dataframe thead th {\n",
       "        text-align: right;\n",
       "    }\n",
       "</style>\n",
       "<table border=\"1\" class=\"dataframe\">\n",
       "  <thead>\n",
       "    <tr style=\"text-align: right;\">\n",
       "      <th></th>\n",
       "      <th>author</th>\n",
       "      <th>recip_primary</th>\n",
       "      <th>subject</th>\n",
       "      <th>body</th>\n",
       "    </tr>\n",
       "  </thead>\n",
       "  <tbody>\n",
       "    <tr>\n",
       "      <th>42</th>\n",
       "      <td>phillip.allen</td>\n",
       "      <td>mac.d.hargrove</td>\n",
       "      <td>Re: enron close to 85</td>\n",
       "      <td>I checked into exercising options with Smith B...</td>\n",
       "    </tr>\n",
       "    <tr>\n",
       "      <th>13</th>\n",
       "      <td>phillip.allen</td>\n",
       "      <td>rich</td>\n",
       "      <td>Re: Western Gas Market Report -- Draft</td>\n",
       "      <td>Richard,\\n\\n Compare your california productio...</td>\n",
       "    </tr>\n",
       "    <tr>\n",
       "      <th>32</th>\n",
       "      <td>phillip.allen</td>\n",
       "      <td>stagecoachmama</td>\n",
       "      <td>Re: receipts</td>\n",
       "      <td>Lucy,\\n I got your email with the attachment. ...</td>\n",
       "    </tr>\n",
       "    <tr>\n",
       "      <th>57</th>\n",
       "      <td>phillip.allen</td>\n",
       "      <td>barry.steinhart</td>\n",
       "      <td>Re: trading opportunities</td>\n",
       "      <td>What are your skills?  Why do you want to be o...</td>\n",
       "    </tr>\n",
       "    <tr>\n",
       "      <th>69</th>\n",
       "      <td>phillip.allen</td>\n",
       "      <td>stagecoachmama</td>\n",
       "      <td>For Wade</td>\n",
       "      <td>Wade,\\n\\n I understood your number one priorit...</td>\n",
       "    </tr>\n",
       "  </tbody>\n",
       "</table>\n",
       "</div>"
      ],
      "text/plain": [
       "           author    recip_primary                                 subject  \\\n",
       "42  phillip.allen   mac.d.hargrove                   Re: enron close to 85   \n",
       "13  phillip.allen             rich  Re: Western Gas Market Report -- Draft   \n",
       "32  phillip.allen   stagecoachmama                            Re: receipts   \n",
       "57  phillip.allen  barry.steinhart               Re: trading opportunities   \n",
       "69  phillip.allen   stagecoachmama                                For Wade   \n",
       "\n",
       "                                                 body  \n",
       "42  I checked into exercising options with Smith B...  \n",
       "13  Richard,\\n\\n Compare your california productio...  \n",
       "32  Lucy,\\n I got your email with the attachment. ...  \n",
       "57  What are your skills?  Why do you want to be o...  \n",
       "69  Wade,\\n\\n I understood your number one priorit...  "
      ]
     },
     "execution_count": 18,
     "metadata": {},
     "output_type": "execute_result"
    }
   ],
   "source": [
    "X = df[['author', 'recip_primary', 'subject', 'body']].dropna()\n",
    "X = X.replace('', np.nan).dropna()\n",
    "\n",
    "# subset for pipeline evaluation purposes\n",
    "X = X.sample(frac=.1)\n",
    "X"
   ]
  },
  {
   "cell_type": "code",
   "execution_count": 13,
   "id": "c2b8534a",
   "metadata": {},
   "outputs": [
    {
     "data": {
      "text/plain": [
       "79876    FYI, should we meet with this guy?  Have we do...\n",
       "37967    When do we expect to hear back from NGI on the...\n",
       "95379    I'm glad you had a great time.  It meant a lot...\n",
       "2433     no, they were just good sellers in the cals. i...\n",
       "41638    It appears our physical gas documents were ass...\n",
       "1881     i think the velocity of the down move will be ...\n",
       "6982     Costilla\\n\\n\\n   \\n\\t\\n\\t\\n\\tFrom:  Yvette G C...\n",
       "40176    Calif Senate Takes Up Bill On Deal With Small ...\n",
       "68083    http://www.click2houston.com/hou/news/stories/...\n",
       "14462                                     yes - let it rip\n",
       "Name: body, dtype: object"
      ]
     },
     "execution_count": 13,
     "metadata": {},
     "output_type": "execute_result"
    }
   ],
   "source": [
    "X['body'][:10]"
   ]
  },
  {
   "cell_type": "code",
   "execution_count": 14,
   "id": "c398e3a8",
   "metadata": {},
   "outputs": [],
   "source": [
    "assert X.isna().sum().sum() == 0"
   ]
  },
  {
   "cell_type": "markdown",
   "id": "df9c1415",
   "metadata": {},
   "source": [
    "### assign labels"
   ]
  },
  {
   "cell_type": "code",
   "execution_count": 15,
   "id": "0c36e7b0",
   "metadata": {},
   "outputs": [
    {
     "data": {
      "text/plain": [
       "<AxesSubplot:>"
      ]
     },
     "execution_count": 15,
     "metadata": {},
     "output_type": "execute_result"
    },
    {
     "data": {
      "image/png": "[encoded data removed]",
      "text/plain": [
       "<Figure size 1152x432 with 1 Axes>"
      ]
     },
     "metadata": {
      "needs_background": "light"
     },
     "output_type": "display_data"
    }
   ],
   "source": [
    "# pd.options.display.max_rows, pd.options.display.min_rows = 64, 16\n",
    "X['author'].value_counts().hist(bins=32, figsize=(16,6))"
   ]
  },
  {
   "cell_type": "code",
   "execution_count": 16,
   "id": "d9acebfc",
   "metadata": {},
   "outputs": [
    {
     "name": "stdout",
     "output_type": "stream",
     "text": [
      "33\n"
     ]
    },
    {
     "data": {
      "text/plain": [
       "kay.mann           816\n",
       "vince.kaminski     461\n",
       "chris.germany      450\n",
       "jeff.dasovich      446\n",
       "sara.shackleton    393\n",
       "tana.jones         318\n",
       "sally.beck         273\n",
       "eric.bass          262\n",
       "Name: author, dtype: int64"
      ]
     },
     "execution_count": 16,
     "metadata": {},
     "output_type": "execute_result"
    }
   ],
   "source": [
    "vc = X['author'].value_counts()\n",
    "cs = vc.cumsum() < vc.sum() * .67\n",
    "authors = vc[cs]\n",
    "\n",
    "# 33 authors account for 2/3rds of emails\n",
    "print(len(authors))\n",
    "authors[:8]"
   ]
  },
  {
   "cell_type": "code",
   "execution_count": 17,
   "id": "586025ac",
   "metadata": {},
   "outputs": [],
   "source": [
    "# filter to most commonly occurring authors\n",
    "mask = X['author'].apply(lambda x: x in authors.index)\n",
    "X = X[mask]"
   ]
  },
  {
   "cell_type": "code",
   "execution_count": 23,
   "id": "1896766c",
   "metadata": {},
   "outputs": [],
   "source": [
    "# encode authors with numerical labels\n",
    "label_dict = {}\n",
    "for index, label in enumerate(authors.index):\n",
    "    label_dict[label] = index\n",
    "\n",
    "X = X.assign(label=X['author'].replace(label_dict))"
   ]
  },
  {
   "cell_type": "code",
   "execution_count": 19,
   "id": "4dfed306",
   "metadata": {},
   "outputs": [],
   "source": [
    "# write train-processed data to disk\n",
    "X.to_parquet('../data/processed/X.parquet')\n",
    "\n",
    "with open('../data/processed/labels.json', 'w') as f_out:\n",
    "    json.dump(label_dict, f_out)"
   ]
  },
  {
   "cell_type": "code",
   "execution_count": null,
   "id": "93a6e2e4",
   "metadata": {},
   "outputs": [],
   "source": []
  }
 ],
 "metadata": {
  "kernelspec": {
   "display_name": "Python 3",
   "language": "python",
   "name": "python3"
  },
  "language_info": {
   "codemirror_mode": {
    "name": "ipython",
    "version": 3
   },
   "file_extension": ".py",
   "mimetype": "text/x-python",
   "name": "python",
   "nbconvert_exporter": "python",
   "pygments_lexer": "ipython3",
   "version": "3.8.8"
  }
 },
 "nbformat": 4,
 "nbformat_minor": 5
}
